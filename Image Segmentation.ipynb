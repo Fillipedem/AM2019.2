{
 "cells": [
  {
   "cell_type": "markdown",
   "metadata": {},
   "source": [
    "## Algoritmos de clustering\n",
    "   \n",
    "    # Fuzzy C-Means - FCM\n",
    "    # Kernel Fuzz C-Means - KFCM-K\n",
    "    # Variable-Wise Kernel Fuzz C-Means - VKFCM-K\n",
    "   \n",
    "#### No dataset Image_Segmentation UCI\n",
    "##### http://archive.ics.uci.edu/ml/datasets/image+segmentation"
   ]
  },
  {
   "cell_type": "code",
   "execution_count": 1,
   "metadata": {},
   "outputs": [],
   "source": [
    "import numpy as np\n",
    "import pandas as pd\n",
    "\n",
    "# Algoritmos de cluster\n",
    "from fcm import FCM\n",
    "from kfcm import KFCM\n",
    "from vkfcm import VKFCM\n",
    "\n",
    "# Algoritmo base para comparação K-Means\n",
    "from sklearn.cluster import KMeans\n",
    "\n",
    "# metricas\n",
    "from sklearn.metrics import adjusted_rand_score\n",
    "\n",
    "# plot\n",
    "from matplotlib import pyplot as plt"
   ]
  },
  {
   "cell_type": "markdown",
   "metadata": {},
   "source": [
    "### Read data"
   ]
  },
  {
   "cell_type": "code",
   "execution_count": 2,
   "metadata": {
    "scrolled": true
   },
   "outputs": [
    {
     "data": {
      "text/html": [
       "<div>\n",
       "<style scoped>\n",
       "    .dataframe tbody tr th:only-of-type {\n",
       "        vertical-align: middle;\n",
       "    }\n",
       "\n",
       "    .dataframe tbody tr th {\n",
       "        vertical-align: top;\n",
       "    }\n",
       "\n",
       "    .dataframe thead th {\n",
       "        text-align: right;\n",
       "    }\n",
       "</style>\n",
       "<table border=\"1\" class=\"dataframe\">\n",
       "  <thead>\n",
       "    <tr style=\"text-align: right;\">\n",
       "      <th></th>\n",
       "      <th>CLASSE</th>\n",
       "      <th>REGION-CENTROID-COL</th>\n",
       "      <th>REGION-CENTROID-ROW</th>\n",
       "      <th>REGION-PIXEL-COUNT</th>\n",
       "      <th>SHORT-LINE-DENSITY-5</th>\n",
       "      <th>SHORT-LINE-DENSITY-2</th>\n",
       "      <th>VEDGE-MEAN</th>\n",
       "      <th>VEDGE-SD</th>\n",
       "      <th>HEDGE-MEAN</th>\n",
       "      <th>HEDGE-SD</th>\n",
       "      <th>INTENSITY-MEAN</th>\n",
       "      <th>RAWRED-MEAN</th>\n",
       "      <th>RAWBLUE-MEAN</th>\n",
       "      <th>RAWGREEN-MEAN</th>\n",
       "      <th>EXRED-MEAN</th>\n",
       "      <th>EXBLUE-MEAN</th>\n",
       "      <th>EXGREEN-MEAN</th>\n",
       "      <th>VALUE-MEAN</th>\n",
       "      <th>SATURATION-MEAN</th>\n",
       "      <th>HUE-MEAN</th>\n",
       "    </tr>\n",
       "  </thead>\n",
       "  <tbody>\n",
       "    <tr>\n",
       "      <th>0</th>\n",
       "      <td>GRASS</td>\n",
       "      <td>110.0</td>\n",
       "      <td>189.0</td>\n",
       "      <td>9</td>\n",
       "      <td>0.0</td>\n",
       "      <td>0.0</td>\n",
       "      <td>1.000000</td>\n",
       "      <td>0.666667</td>\n",
       "      <td>1.222222</td>\n",
       "      <td>1.186342</td>\n",
       "      <td>12.925926</td>\n",
       "      <td>10.888889</td>\n",
       "      <td>9.222222</td>\n",
       "      <td>18.666668</td>\n",
       "      <td>-6.111111</td>\n",
       "      <td>-11.111111</td>\n",
       "      <td>17.222221</td>\n",
       "      <td>18.666668</td>\n",
       "      <td>0.508139</td>\n",
       "      <td>1.910864</td>\n",
       "    </tr>\n",
       "    <tr>\n",
       "      <th>1</th>\n",
       "      <td>GRASS</td>\n",
       "      <td>86.0</td>\n",
       "      <td>187.0</td>\n",
       "      <td>9</td>\n",
       "      <td>0.0</td>\n",
       "      <td>0.0</td>\n",
       "      <td>1.111111</td>\n",
       "      <td>0.720082</td>\n",
       "      <td>1.444444</td>\n",
       "      <td>0.750309</td>\n",
       "      <td>13.740741</td>\n",
       "      <td>11.666667</td>\n",
       "      <td>10.333334</td>\n",
       "      <td>19.222221</td>\n",
       "      <td>-6.222222</td>\n",
       "      <td>-10.222222</td>\n",
       "      <td>16.444445</td>\n",
       "      <td>19.222221</td>\n",
       "      <td>0.463329</td>\n",
       "      <td>1.941465</td>\n",
       "    </tr>\n",
       "    <tr>\n",
       "      <th>2</th>\n",
       "      <td>GRASS</td>\n",
       "      <td>225.0</td>\n",
       "      <td>244.0</td>\n",
       "      <td>9</td>\n",
       "      <td>0.0</td>\n",
       "      <td>0.0</td>\n",
       "      <td>3.388889</td>\n",
       "      <td>2.195113</td>\n",
       "      <td>3.000000</td>\n",
       "      <td>1.520234</td>\n",
       "      <td>12.259259</td>\n",
       "      <td>10.333334</td>\n",
       "      <td>9.333334</td>\n",
       "      <td>17.111110</td>\n",
       "      <td>-5.777778</td>\n",
       "      <td>-8.777778</td>\n",
       "      <td>14.555555</td>\n",
       "      <td>17.111110</td>\n",
       "      <td>0.480149</td>\n",
       "      <td>1.987902</td>\n",
       "    </tr>\n",
       "    <tr>\n",
       "      <th>3</th>\n",
       "      <td>GRASS</td>\n",
       "      <td>47.0</td>\n",
       "      <td>232.0</td>\n",
       "      <td>9</td>\n",
       "      <td>0.0</td>\n",
       "      <td>0.0</td>\n",
       "      <td>1.277778</td>\n",
       "      <td>1.254621</td>\n",
       "      <td>1.000000</td>\n",
       "      <td>0.894427</td>\n",
       "      <td>12.703704</td>\n",
       "      <td>11.000000</td>\n",
       "      <td>9.000000</td>\n",
       "      <td>18.111110</td>\n",
       "      <td>-5.111111</td>\n",
       "      <td>-11.111111</td>\n",
       "      <td>16.222221</td>\n",
       "      <td>18.111110</td>\n",
       "      <td>0.500966</td>\n",
       "      <td>1.875362</td>\n",
       "    </tr>\n",
       "    <tr>\n",
       "      <th>4</th>\n",
       "      <td>GRASS</td>\n",
       "      <td>97.0</td>\n",
       "      <td>186.0</td>\n",
       "      <td>9</td>\n",
       "      <td>0.0</td>\n",
       "      <td>0.0</td>\n",
       "      <td>1.166667</td>\n",
       "      <td>0.691215</td>\n",
       "      <td>1.166667</td>\n",
       "      <td>1.005540</td>\n",
       "      <td>15.592592</td>\n",
       "      <td>13.888889</td>\n",
       "      <td>11.777778</td>\n",
       "      <td>21.111110</td>\n",
       "      <td>-5.111111</td>\n",
       "      <td>-11.444445</td>\n",
       "      <td>16.555555</td>\n",
       "      <td>21.111110</td>\n",
       "      <td>0.442661</td>\n",
       "      <td>1.863654</td>\n",
       "    </tr>\n",
       "  </tbody>\n",
       "</table>\n",
       "</div>"
      ],
      "text/plain": [
       "  CLASSE  REGION-CENTROID-COL  REGION-CENTROID-ROW  REGION-PIXEL-COUNT  \\\n",
       "0  GRASS                110.0                189.0                   9   \n",
       "1  GRASS                 86.0                187.0                   9   \n",
       "2  GRASS                225.0                244.0                   9   \n",
       "3  GRASS                 47.0                232.0                   9   \n",
       "4  GRASS                 97.0                186.0                   9   \n",
       "\n",
       "   SHORT-LINE-DENSITY-5  SHORT-LINE-DENSITY-2  VEDGE-MEAN  VEDGE-SD  \\\n",
       "0                   0.0                   0.0    1.000000  0.666667   \n",
       "1                   0.0                   0.0    1.111111  0.720082   \n",
       "2                   0.0                   0.0    3.388889  2.195113   \n",
       "3                   0.0                   0.0    1.277778  1.254621   \n",
       "4                   0.0                   0.0    1.166667  0.691215   \n",
       "\n",
       "   HEDGE-MEAN  HEDGE-SD  INTENSITY-MEAN  RAWRED-MEAN  RAWBLUE-MEAN  \\\n",
       "0    1.222222  1.186342       12.925926    10.888889      9.222222   \n",
       "1    1.444444  0.750309       13.740741    11.666667     10.333334   \n",
       "2    3.000000  1.520234       12.259259    10.333334      9.333334   \n",
       "3    1.000000  0.894427       12.703704    11.000000      9.000000   \n",
       "4    1.166667  1.005540       15.592592    13.888889     11.777778   \n",
       "\n",
       "   RAWGREEN-MEAN  EXRED-MEAN  EXBLUE-MEAN  EXGREEN-MEAN  VALUE-MEAN  \\\n",
       "0      18.666668   -6.111111   -11.111111     17.222221   18.666668   \n",
       "1      19.222221   -6.222222   -10.222222     16.444445   19.222221   \n",
       "2      17.111110   -5.777778    -8.777778     14.555555   17.111110   \n",
       "3      18.111110   -5.111111   -11.111111     16.222221   18.111110   \n",
       "4      21.111110   -5.111111   -11.444445     16.555555   21.111110   \n",
       "\n",
       "   SATURATION-MEAN  HUE-MEAN  \n",
       "0         0.508139  1.910864  \n",
       "1         0.463329  1.941465  \n",
       "2         0.480149  1.987902  \n",
       "3         0.500966  1.875362  \n",
       "4         0.442661  1.863654  "
      ]
     },
     "execution_count": 2,
     "metadata": {},
     "output_type": "execute_result"
    }
   ],
   "source": [
    "df = pd.read_csv(\"./data/segmentation.test\")\n",
    "df.head(5)"
   ]
  },
  {
   "cell_type": "markdown",
   "metadata": {},
   "source": [
    "### Analise da base"
   ]
  },
  {
   "cell_type": "code",
   "execution_count": 3,
   "metadata": {},
   "outputs": [
    {
     "data": {
      "text/html": [
       "<div>\n",
       "<style scoped>\n",
       "    .dataframe tbody tr th:only-of-type {\n",
       "        vertical-align: middle;\n",
       "    }\n",
       "\n",
       "    .dataframe tbody tr th {\n",
       "        vertical-align: top;\n",
       "    }\n",
       "\n",
       "    .dataframe thead th {\n",
       "        text-align: right;\n",
       "    }\n",
       "</style>\n",
       "<table border=\"1\" class=\"dataframe\">\n",
       "  <thead>\n",
       "    <tr style=\"text-align: right;\">\n",
       "      <th></th>\n",
       "      <th>REGION-CENTROID-COL</th>\n",
       "      <th>REGION-CENTROID-ROW</th>\n",
       "      <th>REGION-PIXEL-COUNT</th>\n",
       "      <th>SHORT-LINE-DENSITY-5</th>\n",
       "      <th>SHORT-LINE-DENSITY-2</th>\n",
       "      <th>VEDGE-MEAN</th>\n",
       "      <th>VEDGE-SD</th>\n",
       "      <th>HEDGE-MEAN</th>\n",
       "      <th>HEDGE-SD</th>\n",
       "      <th>INTENSITY-MEAN</th>\n",
       "      <th>RAWRED-MEAN</th>\n",
       "      <th>RAWBLUE-MEAN</th>\n",
       "      <th>RAWGREEN-MEAN</th>\n",
       "      <th>EXRED-MEAN</th>\n",
       "      <th>EXBLUE-MEAN</th>\n",
       "      <th>EXGREEN-MEAN</th>\n",
       "      <th>VALUE-MEAN</th>\n",
       "      <th>SATURATION-MEAN</th>\n",
       "      <th>HUE-MEAN</th>\n",
       "    </tr>\n",
       "  </thead>\n",
       "  <tbody>\n",
       "    <tr>\n",
       "      <th>count</th>\n",
       "      <td>2100.000000</td>\n",
       "      <td>2100.000000</td>\n",
       "      <td>2100.0</td>\n",
       "      <td>2100.000000</td>\n",
       "      <td>2100.000000</td>\n",
       "      <td>2100.000000</td>\n",
       "      <td>2100.000000</td>\n",
       "      <td>2100.000000</td>\n",
       "      <td>2.100000e+03</td>\n",
       "      <td>2100.000000</td>\n",
       "      <td>2100.000000</td>\n",
       "      <td>2100.000000</td>\n",
       "      <td>2100.000000</td>\n",
       "      <td>2100.000000</td>\n",
       "      <td>2100.000000</td>\n",
       "      <td>2100.000000</td>\n",
       "      <td>2100.000000</td>\n",
       "      <td>2100.000000</td>\n",
       "      <td>2100.000000</td>\n",
       "    </tr>\n",
       "    <tr>\n",
       "      <th>mean</th>\n",
       "      <td>124.940476</td>\n",
       "      <td>123.483333</td>\n",
       "      <td>9.0</td>\n",
       "      <td>0.014921</td>\n",
       "      <td>0.004550</td>\n",
       "      <td>1.890820</td>\n",
       "      <td>5.708299</td>\n",
       "      <td>2.406772</td>\n",
       "      <td>7.904224e+00</td>\n",
       "      <td>37.047654</td>\n",
       "      <td>32.806667</td>\n",
       "      <td>44.205556</td>\n",
       "      <td>34.130741</td>\n",
       "      <td>-12.722963</td>\n",
       "      <td>21.473704</td>\n",
       "      <td>-8.750741</td>\n",
       "      <td>45.162381</td>\n",
       "      <td>0.427259</td>\n",
       "      <td>-1.365147</td>\n",
       "    </tr>\n",
       "    <tr>\n",
       "      <th>std</th>\n",
       "      <td>72.858637</td>\n",
       "      <td>57.431428</td>\n",
       "      <td>0.0</td>\n",
       "      <td>0.041024</td>\n",
       "      <td>0.023573</td>\n",
       "      <td>2.649453</td>\n",
       "      <td>44.989359</td>\n",
       "      <td>3.469954</td>\n",
       "      <td>5.347107e+01</td>\n",
       "      <td>38.135291</td>\n",
       "      <td>34.994538</td>\n",
       "      <td>43.510119</td>\n",
       "      <td>36.303768</td>\n",
       "      <td>11.588214</td>\n",
       "      <td>19.654107</td>\n",
       "      <td>11.606996</td>\n",
       "      <td>42.900582</td>\n",
       "      <td>0.228458</td>\n",
       "      <td>1.544278</td>\n",
       "    </tr>\n",
       "    <tr>\n",
       "      <th>min</th>\n",
       "      <td>1.000000</td>\n",
       "      <td>11.000000</td>\n",
       "      <td>9.0</td>\n",
       "      <td>0.000000</td>\n",
       "      <td>0.000000</td>\n",
       "      <td>0.000000</td>\n",
       "      <td>0.000000</td>\n",
       "      <td>0.000000</td>\n",
       "      <td>-1.589457e-08</td>\n",
       "      <td>0.000000</td>\n",
       "      <td>0.000000</td>\n",
       "      <td>0.000000</td>\n",
       "      <td>0.000000</td>\n",
       "      <td>-49.666668</td>\n",
       "      <td>-12.444445</td>\n",
       "      <td>-33.888890</td>\n",
       "      <td>0.000000</td>\n",
       "      <td>0.000000</td>\n",
       "      <td>-3.044175</td>\n",
       "    </tr>\n",
       "    <tr>\n",
       "      <th>25%</th>\n",
       "      <td>62.000000</td>\n",
       "      <td>81.000000</td>\n",
       "      <td>9.0</td>\n",
       "      <td>0.000000</td>\n",
       "      <td>0.000000</td>\n",
       "      <td>0.722222</td>\n",
       "      <td>0.349603</td>\n",
       "      <td>0.833332</td>\n",
       "      <td>4.216377e-01</td>\n",
       "      <td>7.472222</td>\n",
       "      <td>7.000000</td>\n",
       "      <td>9.666667</td>\n",
       "      <td>6.222222</td>\n",
       "      <td>-18.583333</td>\n",
       "      <td>4.305556</td>\n",
       "      <td>-17.000000</td>\n",
       "      <td>11.777778</td>\n",
       "      <td>0.284934</td>\n",
       "      <td>-2.188539</td>\n",
       "    </tr>\n",
       "    <tr>\n",
       "      <th>50%</th>\n",
       "      <td>121.000000</td>\n",
       "      <td>122.000000</td>\n",
       "      <td>9.0</td>\n",
       "      <td>0.000000</td>\n",
       "      <td>0.000000</td>\n",
       "      <td>1.277776</td>\n",
       "      <td>0.833333</td>\n",
       "      <td>1.444444</td>\n",
       "      <td>9.897442e-01</td>\n",
       "      <td>21.666666</td>\n",
       "      <td>19.666668</td>\n",
       "      <td>27.777779</td>\n",
       "      <td>20.444445</td>\n",
       "      <td>-10.888889</td>\n",
       "      <td>19.666666</td>\n",
       "      <td>-11.000000</td>\n",
       "      <td>28.666666</td>\n",
       "      <td>0.375064</td>\n",
       "      <td>-2.052625</td>\n",
       "    </tr>\n",
       "    <tr>\n",
       "      <th>75%</th>\n",
       "      <td>188.250000</td>\n",
       "      <td>171.250000</td>\n",
       "      <td>9.0</td>\n",
       "      <td>0.000000</td>\n",
       "      <td>0.000000</td>\n",
       "      <td>2.222221</td>\n",
       "      <td>1.807406</td>\n",
       "      <td>2.555556</td>\n",
       "      <td>2.251852e+00</td>\n",
       "      <td>53.277778</td>\n",
       "      <td>47.333332</td>\n",
       "      <td>65.000000</td>\n",
       "      <td>46.388888</td>\n",
       "      <td>-4.222222</td>\n",
       "      <td>36.111110</td>\n",
       "      <td>-3.222222</td>\n",
       "      <td>65.000000</td>\n",
       "      <td>0.540228</td>\n",
       "      <td>-1.565745</td>\n",
       "    </tr>\n",
       "    <tr>\n",
       "      <th>max</th>\n",
       "      <td>254.000000</td>\n",
       "      <td>251.000000</td>\n",
       "      <td>9.0</td>\n",
       "      <td>0.333333</td>\n",
       "      <td>0.222222</td>\n",
       "      <td>29.222221</td>\n",
       "      <td>991.718400</td>\n",
       "      <td>44.722225</td>\n",
       "      <td>1.386329e+03</td>\n",
       "      <td>143.444440</td>\n",
       "      <td>137.111110</td>\n",
       "      <td>150.888890</td>\n",
       "      <td>142.555560</td>\n",
       "      <td>9.888889</td>\n",
       "      <td>82.000000</td>\n",
       "      <td>24.666666</td>\n",
       "      <td>150.888890</td>\n",
       "      <td>1.000000</td>\n",
       "      <td>2.912480</td>\n",
       "    </tr>\n",
       "  </tbody>\n",
       "</table>\n",
       "</div>"
      ],
      "text/plain": [
       "       REGION-CENTROID-COL  REGION-CENTROID-ROW  REGION-PIXEL-COUNT  \\\n",
       "count          2100.000000          2100.000000              2100.0   \n",
       "mean            124.940476           123.483333                 9.0   \n",
       "std              72.858637            57.431428                 0.0   \n",
       "min               1.000000            11.000000                 9.0   \n",
       "25%              62.000000            81.000000                 9.0   \n",
       "50%             121.000000           122.000000                 9.0   \n",
       "75%             188.250000           171.250000                 9.0   \n",
       "max             254.000000           251.000000                 9.0   \n",
       "\n",
       "       SHORT-LINE-DENSITY-5  SHORT-LINE-DENSITY-2   VEDGE-MEAN     VEDGE-SD  \\\n",
       "count           2100.000000           2100.000000  2100.000000  2100.000000   \n",
       "mean               0.014921              0.004550     1.890820     5.708299   \n",
       "std                0.041024              0.023573     2.649453    44.989359   \n",
       "min                0.000000              0.000000     0.000000     0.000000   \n",
       "25%                0.000000              0.000000     0.722222     0.349603   \n",
       "50%                0.000000              0.000000     1.277776     0.833333   \n",
       "75%                0.000000              0.000000     2.222221     1.807406   \n",
       "max                0.333333              0.222222    29.222221   991.718400   \n",
       "\n",
       "        HEDGE-MEAN      HEDGE-SD  INTENSITY-MEAN  RAWRED-MEAN  RAWBLUE-MEAN  \\\n",
       "count  2100.000000  2.100000e+03     2100.000000  2100.000000   2100.000000   \n",
       "mean      2.406772  7.904224e+00       37.047654    32.806667     44.205556   \n",
       "std       3.469954  5.347107e+01       38.135291    34.994538     43.510119   \n",
       "min       0.000000 -1.589457e-08        0.000000     0.000000      0.000000   \n",
       "25%       0.833332  4.216377e-01        7.472222     7.000000      9.666667   \n",
       "50%       1.444444  9.897442e-01       21.666666    19.666668     27.777779   \n",
       "75%       2.555556  2.251852e+00       53.277778    47.333332     65.000000   \n",
       "max      44.722225  1.386329e+03      143.444440   137.111110    150.888890   \n",
       "\n",
       "       RAWGREEN-MEAN   EXRED-MEAN  EXBLUE-MEAN  EXGREEN-MEAN   VALUE-MEAN  \\\n",
       "count    2100.000000  2100.000000  2100.000000   2100.000000  2100.000000   \n",
       "mean       34.130741   -12.722963    21.473704     -8.750741    45.162381   \n",
       "std        36.303768    11.588214    19.654107     11.606996    42.900582   \n",
       "min         0.000000   -49.666668   -12.444445    -33.888890     0.000000   \n",
       "25%         6.222222   -18.583333     4.305556    -17.000000    11.777778   \n",
       "50%        20.444445   -10.888889    19.666666    -11.000000    28.666666   \n",
       "75%        46.388888    -4.222222    36.111110     -3.222222    65.000000   \n",
       "max       142.555560     9.888889    82.000000     24.666666   150.888890   \n",
       "\n",
       "       SATURATION-MEAN     HUE-MEAN  \n",
       "count      2100.000000  2100.000000  \n",
       "mean          0.427259    -1.365147  \n",
       "std           0.228458     1.544278  \n",
       "min           0.000000    -3.044175  \n",
       "25%           0.284934    -2.188539  \n",
       "50%           0.375064    -2.052625  \n",
       "75%           0.540228    -1.565745  \n",
       "max           1.000000     2.912480  "
      ]
     },
     "execution_count": 3,
     "metadata": {},
     "output_type": "execute_result"
    }
   ],
   "source": [
    "df.describe()"
   ]
  },
  {
   "cell_type": "code",
   "execution_count": 4,
   "metadata": {
    "scrolled": false
   },
   "outputs": [
    {
     "data": {
      "text/plain": [
       "PATH         300\n",
       "BRICKFACE    300\n",
       "WINDOW       300\n",
       "GRASS        300\n",
       "FOLIAGE      300\n",
       "SKY          300\n",
       "CEMENT       300\n",
       "Name: CLASSE, dtype: int64"
      ]
     },
     "execution_count": 4,
     "metadata": {},
     "output_type": "execute_result"
    }
   ],
   "source": [
    "# Classe balanceada\n",
    "df['CLASSE'].value_counts()"
   ]
  },
  {
   "cell_type": "markdown",
   "metadata": {},
   "source": [
    "### Removendo atributo REGION-PIXEL-COUNT"
   ]
  },
  {
   "cell_type": "code",
   "execution_count": 5,
   "metadata": {},
   "outputs": [
    {
     "data": {
      "text/html": [
       "<div>\n",
       "<style scoped>\n",
       "    .dataframe tbody tr th:only-of-type {\n",
       "        vertical-align: middle;\n",
       "    }\n",
       "\n",
       "    .dataframe tbody tr th {\n",
       "        vertical-align: top;\n",
       "    }\n",
       "\n",
       "    .dataframe thead th {\n",
       "        text-align: right;\n",
       "    }\n",
       "</style>\n",
       "<table border=\"1\" class=\"dataframe\">\n",
       "  <thead>\n",
       "    <tr style=\"text-align: right;\">\n",
       "      <th></th>\n",
       "      <th>CLASSE</th>\n",
       "      <th>REGION-CENTROID-COL</th>\n",
       "      <th>REGION-CENTROID-ROW</th>\n",
       "      <th>SHORT-LINE-DENSITY-5</th>\n",
       "      <th>SHORT-LINE-DENSITY-2</th>\n",
       "      <th>VEDGE-MEAN</th>\n",
       "      <th>VEDGE-SD</th>\n",
       "      <th>HEDGE-MEAN</th>\n",
       "      <th>HEDGE-SD</th>\n",
       "      <th>INTENSITY-MEAN</th>\n",
       "      <th>RAWRED-MEAN</th>\n",
       "      <th>RAWBLUE-MEAN</th>\n",
       "      <th>RAWGREEN-MEAN</th>\n",
       "      <th>EXRED-MEAN</th>\n",
       "      <th>EXBLUE-MEAN</th>\n",
       "      <th>EXGREEN-MEAN</th>\n",
       "      <th>VALUE-MEAN</th>\n",
       "      <th>SATURATION-MEAN</th>\n",
       "      <th>HUE-MEAN</th>\n",
       "    </tr>\n",
       "  </thead>\n",
       "  <tbody>\n",
       "    <tr>\n",
       "      <th>0</th>\n",
       "      <td>GRASS</td>\n",
       "      <td>110.0</td>\n",
       "      <td>189.0</td>\n",
       "      <td>0.0</td>\n",
       "      <td>0.0</td>\n",
       "      <td>1.0</td>\n",
       "      <td>0.666667</td>\n",
       "      <td>1.222222</td>\n",
       "      <td>1.186342</td>\n",
       "      <td>12.925926</td>\n",
       "      <td>10.888889</td>\n",
       "      <td>9.222222</td>\n",
       "      <td>18.666668</td>\n",
       "      <td>-6.111111</td>\n",
       "      <td>-11.111111</td>\n",
       "      <td>17.222221</td>\n",
       "      <td>18.666668</td>\n",
       "      <td>0.508139</td>\n",
       "      <td>1.910864</td>\n",
       "    </tr>\n",
       "  </tbody>\n",
       "</table>\n",
       "</div>"
      ],
      "text/plain": [
       "  CLASSE  REGION-CENTROID-COL  REGION-CENTROID-ROW  SHORT-LINE-DENSITY-5  \\\n",
       "0  GRASS                110.0                189.0                   0.0   \n",
       "\n",
       "   SHORT-LINE-DENSITY-2  VEDGE-MEAN  VEDGE-SD  HEDGE-MEAN  HEDGE-SD  \\\n",
       "0                   0.0         1.0  0.666667    1.222222  1.186342   \n",
       "\n",
       "   INTENSITY-MEAN  RAWRED-MEAN  RAWBLUE-MEAN  RAWGREEN-MEAN  EXRED-MEAN  \\\n",
       "0       12.925926    10.888889      9.222222      18.666668   -6.111111   \n",
       "\n",
       "   EXBLUE-MEAN  EXGREEN-MEAN  VALUE-MEAN  SATURATION-MEAN  HUE-MEAN  \n",
       "0   -11.111111     17.222221   18.666668         0.508139  1.910864  "
      ]
     },
     "execution_count": 5,
     "metadata": {},
     "output_type": "execute_result"
    }
   ],
   "source": [
    "df = df.drop(columns=['REGION-PIXEL-COUNT'])\n",
    "df.head(1)"
   ]
  },
  {
   "cell_type": "markdown",
   "metadata": {},
   "source": [
    "### A base será analisada por 2 Views\n",
    "     Shape view - 9 primeiros atributos\n",
    "     RGB view - 10 ultimso atributos"
   ]
  },
  {
   "cell_type": "code",
   "execution_count": 6,
   "metadata": {
    "scrolled": true
   },
   "outputs": [
    {
     "data": {
      "text/plain": [
       "(2100, 19)"
      ]
     },
     "execution_count": 6,
     "metadata": {},
     "output_type": "execute_result"
    }
   ],
   "source": [
    "df.shape"
   ]
  },
  {
   "cell_type": "code",
   "execution_count": 7,
   "metadata": {},
   "outputs": [],
   "source": [
    "shape_view = df.iloc[:, 1:-9]\n",
    "rgb_view =  df.iloc[:, -9:]\n",
    "target = df.iloc[:, 0]"
   ]
  },
  {
   "cell_type": "code",
   "execution_count": 8,
   "metadata": {},
   "outputs": [
    {
     "data": {
      "text/html": [
       "<div>\n",
       "<style scoped>\n",
       "    .dataframe tbody tr th:only-of-type {\n",
       "        vertical-align: middle;\n",
       "    }\n",
       "\n",
       "    .dataframe tbody tr th {\n",
       "        vertical-align: top;\n",
       "    }\n",
       "\n",
       "    .dataframe thead th {\n",
       "        text-align: right;\n",
       "    }\n",
       "</style>\n",
       "<table border=\"1\" class=\"dataframe\">\n",
       "  <thead>\n",
       "    <tr style=\"text-align: right;\">\n",
       "      <th></th>\n",
       "      <th>REGION-CENTROID-COL</th>\n",
       "      <th>REGION-CENTROID-ROW</th>\n",
       "      <th>SHORT-LINE-DENSITY-5</th>\n",
       "      <th>SHORT-LINE-DENSITY-2</th>\n",
       "      <th>VEDGE-MEAN</th>\n",
       "      <th>VEDGE-SD</th>\n",
       "      <th>HEDGE-MEAN</th>\n",
       "      <th>HEDGE-SD</th>\n",
       "      <th>INTENSITY-MEAN</th>\n",
       "    </tr>\n",
       "  </thead>\n",
       "  <tbody>\n",
       "    <tr>\n",
       "      <th>0</th>\n",
       "      <td>110.0</td>\n",
       "      <td>189.0</td>\n",
       "      <td>0.0</td>\n",
       "      <td>0.0</td>\n",
       "      <td>1.0</td>\n",
       "      <td>0.666667</td>\n",
       "      <td>1.222222</td>\n",
       "      <td>1.186342</td>\n",
       "      <td>12.925926</td>\n",
       "    </tr>\n",
       "  </tbody>\n",
       "</table>\n",
       "</div>"
      ],
      "text/plain": [
       "   REGION-CENTROID-COL  REGION-CENTROID-ROW  SHORT-LINE-DENSITY-5  \\\n",
       "0                110.0                189.0                   0.0   \n",
       "\n",
       "   SHORT-LINE-DENSITY-2  VEDGE-MEAN  VEDGE-SD  HEDGE-MEAN  HEDGE-SD  \\\n",
       "0                   0.0         1.0  0.666667    1.222222  1.186342   \n",
       "\n",
       "   INTENSITY-MEAN  \n",
       "0       12.925926  "
      ]
     },
     "execution_count": 8,
     "metadata": {},
     "output_type": "execute_result"
    }
   ],
   "source": [
    "shape_view.head(1)"
   ]
  },
  {
   "cell_type": "code",
   "execution_count": 9,
   "metadata": {},
   "outputs": [
    {
     "data": {
      "text/html": [
       "<div>\n",
       "<style scoped>\n",
       "    .dataframe tbody tr th:only-of-type {\n",
       "        vertical-align: middle;\n",
       "    }\n",
       "\n",
       "    .dataframe tbody tr th {\n",
       "        vertical-align: top;\n",
       "    }\n",
       "\n",
       "    .dataframe thead th {\n",
       "        text-align: right;\n",
       "    }\n",
       "</style>\n",
       "<table border=\"1\" class=\"dataframe\">\n",
       "  <thead>\n",
       "    <tr style=\"text-align: right;\">\n",
       "      <th></th>\n",
       "      <th>RAWRED-MEAN</th>\n",
       "      <th>RAWBLUE-MEAN</th>\n",
       "      <th>RAWGREEN-MEAN</th>\n",
       "      <th>EXRED-MEAN</th>\n",
       "      <th>EXBLUE-MEAN</th>\n",
       "      <th>EXGREEN-MEAN</th>\n",
       "      <th>VALUE-MEAN</th>\n",
       "      <th>SATURATION-MEAN</th>\n",
       "      <th>HUE-MEAN</th>\n",
       "    </tr>\n",
       "  </thead>\n",
       "  <tbody>\n",
       "    <tr>\n",
       "      <th>0</th>\n",
       "      <td>10.888889</td>\n",
       "      <td>9.222222</td>\n",
       "      <td>18.666668</td>\n",
       "      <td>-6.111111</td>\n",
       "      <td>-11.111111</td>\n",
       "      <td>17.222221</td>\n",
       "      <td>18.666668</td>\n",
       "      <td>0.508139</td>\n",
       "      <td>1.910864</td>\n",
       "    </tr>\n",
       "  </tbody>\n",
       "</table>\n",
       "</div>"
      ],
      "text/plain": [
       "   RAWRED-MEAN  RAWBLUE-MEAN  RAWGREEN-MEAN  EXRED-MEAN  EXBLUE-MEAN  \\\n",
       "0    10.888889      9.222222      18.666668   -6.111111   -11.111111   \n",
       "\n",
       "   EXGREEN-MEAN  VALUE-MEAN  SATURATION-MEAN  HUE-MEAN  \n",
       "0     17.222221   18.666668         0.508139  1.910864  "
      ]
     },
     "execution_count": 9,
     "metadata": {},
     "output_type": "execute_result"
    }
   ],
   "source": [
    "rgb_view.head(1)"
   ]
  },
  {
   "cell_type": "markdown",
   "metadata": {},
   "source": [
    "## Cluster parameters"
   ]
  },
  {
   "cell_type": "code",
   "execution_count": 10,
   "metadata": {},
   "outputs": [],
   "source": [
    "num_clusters = 7\n",
    "m = 1.6\n",
    "max_iter = 150 \n",
    "e =10^(-10)"
   ]
  },
  {
   "cell_type": "markdown",
   "metadata": {},
   "source": [
    "### VKFCM"
   ]
  },
  {
   "cell_type": "code",
   "execution_count": 11,
   "metadata": {
    "scrolled": false
   },
   "outputs": [
    {
     "name": "stdout",
     "output_type": "stream",
     "text": [
      "Start Shape View\n",
      "Start RGB View\n"
     ]
    }
   ],
   "source": [
    "# Shape View\n",
    "print(\"Start Shape View\")\n",
    "vkfcm_shape = VKFCM(shape_view.values, 7, m=1.6)\n",
    "\n",
    "cost_shape = []\n",
    "for i in range(20):\n",
    "    vkfcm_shape.update_centroids()\n",
    "    vkfcm_shape.update_weights()\n",
    "    vkfcm_shape.update_membership()\n",
    "    cost_shape.append(vkfcm_shape.cost_function())\n",
    "\n",
    "# rgb view\n",
    "print(\"Start RGB View\")\n",
    "vkfcm_rgb = VKFCM(rgb_view.values, 7, m=1.6)\n",
    "\n",
    "cost_rgb = []\n",
    "for i in range(20):\n",
    "    vkfcm_rgb.update_centroids()\n",
    "    vkfcm_rgb.update_weights()\n",
    "    vkfcm_rgb.update_membership()\n",
    "    cost_rgb.append(vkfcm_rgb.cost_function())"
   ]
  },
  {
   "cell_type": "code",
   "execution_count": 13,
   "metadata": {
    "scrolled": true
   },
   "outputs": [
    {
     "data": {
      "text/plain": [
       "[<matplotlib.lines.Line2D at 0x7f2645b03da0>]"
      ]
     },
     "execution_count": 13,
     "metadata": {},
     "output_type": "execute_result"
    },
    {
     "data": {
      "image/png": "[encoded data removed]",
      "text/plain": [
       "<Figure size 432x288 with 1 Axes>"
      ]
     },
     "metadata": {
      "needs_background": "light"
     },
     "output_type": "display_data"
    }
   ],
   "source": [
    "plt.plot(cost_shape)"
   ]
  },
  {
   "cell_type": "code",
   "execution_count": 14,
   "metadata": {
    "scrolled": true
   },
   "outputs": [
    {
     "data": {
      "text/plain": [
       "[<matplotlib.lines.Line2D at 0x7f2645a91b70>]"
      ]
     },
     "execution_count": 14,
     "metadata": {},
     "output_type": "execute_result"
    },
    {
     "data": {
      "image/png": "[encoded data removed]",
      "text/plain": [
       "<Figure size 432x288 with 1 Axes>"
      ]
     },
     "metadata": {
      "needs_background": "light"
     },
     "output_type": "display_data"
    }
   ],
   "source": [
    "plt.plot(cost_rgb)"
   ]
  },
  {
   "cell_type": "markdown",
   "metadata": {},
   "source": [
    "### Rand index"
   ]
  },
  {
   "cell_type": "code",
   "execution_count": 15,
   "metadata": {},
   "outputs": [
    {
     "name": "stdout",
     "output_type": "stream",
     "text": [
      "Rand:  0.32165517054135684\n",
      "Rand:  0.5219988417396351\n"
     ]
    }
   ],
   "source": [
    "y_pred = vkfcm_shape.crisp()\n",
    "print(\"Rand: \", adjusted_rand_score(target, y_pred))\n",
    "\n",
    "y_pred = vkfcm_rgb.crisp()\n",
    "print(\"Rand: \", adjusted_rand_score(target, y_pred))"
   ]
  },
  {
   "cell_type": "code",
   "execution_count": null,
   "metadata": {},
   "outputs": [],
   "source": []
  }
 ],
 "metadata": {
  "kernelspec": {
   "display_name": "Python 3",
   "language": "python",
   "name": "python3"
  },
  "language_info": {
   "codemirror_mode": {
    "name": "ipython",
    "version": 3
   },
   "file_extension": ".py",
   "mimetype": "text/x-python",
   "name": "python",
   "nbconvert_exporter": "python",
   "pygments_lexer": "ipython3",
   "version": "3.6.8"
  }
 },
 "nbformat": 4,
 "nbformat_minor": 2
}
